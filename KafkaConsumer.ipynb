{
 "cells": [
  {
   "cell_type": "code",
   "execution_count": 1,
   "id": "d18affd3",
   "metadata": {},
   "outputs": [],
   "source": [
    "from kafka import KafkaConsumer\n",
    "from time import sleep\n",
    "from json import dumps,loads\n",
    "import json\n"
   ]
  },
  {
   "cell_type": "code",
   "execution_count": 3,
   "id": "42f62b36",
   "metadata": {},
   "outputs": [
    {
     "name": "stdout",
     "output_type": "stream",
     "text": [
      "Collecting s3fs\n",
      "  Downloading s3fs-2023.5.0-py3-none-any.whl (28 kB)\n",
      "Collecting aiobotocore~=2.5.0\n",
      "  Downloading aiobotocore-2.5.0-py3-none-any.whl (72 kB)\n",
      "     ---------------------------------------- 0.0/72.7 kB ? eta -:--:--\n",
      "     ---------------------------------------- 72.7/72.7 kB 4.2 MB/s eta 0:00:00\n",
      "Collecting aiohttp!=4.0.0a0,!=4.0.0a1\n",
      "  Downloading aiohttp-3.8.4-cp39-cp39-win_amd64.whl (323 kB)\n",
      "     ---------------------------------------- 0.0/323.6 kB ? eta -:--:--\n",
      "     -------------- ----------------------- 122.9/323.6 kB 3.6 MB/s eta 0:00:01\n",
      "     -------------------------------------  317.4/323.6 kB 3.3 MB/s eta 0:00:01\n",
      "     -------------------------------------- 323.6/323.6 kB 3.3 MB/s eta 0:00:00\n",
      "Collecting fsspec==2023.5.0\n",
      "  Downloading fsspec-2023.5.0-py3-none-any.whl (160 kB)\n",
      "     ---------------------------------------- 0.0/160.1 kB ? eta -:--:--\n",
      "     ------------------------------------ - 153.6/160.1 kB 4.6 MB/s eta 0:00:01\n",
      "     -------------------------------------- 160.1/160.1 kB 3.2 MB/s eta 0:00:00\n",
      "Requirement already satisfied: wrapt>=1.10.10 in c:\\users\\adars\\anaconda3\\lib\\site-packages (from aiobotocore~=2.5.0->s3fs) (1.14.1)\n",
      "Collecting botocore<1.29.77,>=1.29.76\n",
      "  Downloading botocore-1.29.76-py3-none-any.whl (10.4 MB)\n",
      "     ---------------------------------------- 0.0/10.4 MB ? eta -:--:--\n",
      "      --------------------------------------- 0.2/10.4 MB 4.6 MB/s eta 0:00:03\n",
      "     - -------------------------------------- 0.3/10.4 MB 3.9 MB/s eta 0:00:03\n",
      "     -- ------------------------------------- 0.5/10.4 MB 4.3 MB/s eta 0:00:03\n",
      "     -- ------------------------------------- 0.7/10.4 MB 4.2 MB/s eta 0:00:03\n",
      "     --- ------------------------------------ 0.9/10.4 MB 4.4 MB/s eta 0:00:03\n",
      "     ---- ----------------------------------- 1.1/10.4 MB 4.1 MB/s eta 0:00:03\n",
      "     ---- ----------------------------------- 1.2/10.4 MB 3.9 MB/s eta 0:00:03\n",
      "     ----- ---------------------------------- 1.4/10.4 MB 3.9 MB/s eta 0:00:03\n",
      "     ------ --------------------------------- 1.6/10.4 MB 4.1 MB/s eta 0:00:03\n",
      "     ------- -------------------------------- 1.8/10.4 MB 4.0 MB/s eta 0:00:03\n",
      "     ------- -------------------------------- 2.1/10.4 MB 4.1 MB/s eta 0:00:03\n",
      "     -------- ------------------------------- 2.2/10.4 MB 4.1 MB/s eta 0:00:02\n",
      "     --------- ------------------------------ 2.4/10.4 MB 4.0 MB/s eta 0:00:02\n",
      "     ---------- ----------------------------- 2.7/10.4 MB 4.2 MB/s eta 0:00:02\n",
      "     ----------- ---------------------------- 2.9/10.4 MB 4.2 MB/s eta 0:00:02\n",
      "     ------------ --------------------------- 3.2/10.4 MB 4.4 MB/s eta 0:00:02\n",
      "     ------------- -------------------------- 3.4/10.4 MB 4.4 MB/s eta 0:00:02\n",
      "     ------------- -------------------------- 3.6/10.4 MB 4.5 MB/s eta 0:00:02\n",
      "     -------------- ------------------------- 3.8/10.4 MB 4.4 MB/s eta 0:00:02\n",
      "     -------------- ------------------------- 3.8/10.4 MB 4.1 MB/s eta 0:00:02\n",
      "     --------------- ------------------------ 4.0/10.4 MB 4.1 MB/s eta 0:00:02\n",
      "     --------------- ------------------------ 4.0/10.4 MB 4.1 MB/s eta 0:00:02\n",
      "     --------------- ------------------------ 4.1/10.4 MB 3.9 MB/s eta 0:00:02\n",
      "     ----------------- ---------------------- 4.5/10.4 MB 4.1 MB/s eta 0:00:02\n",
      "     ------------------ --------------------- 4.7/10.4 MB 4.1 MB/s eta 0:00:02\n",
      "     ------------------ --------------------- 4.9/10.4 MB 4.1 MB/s eta 0:00:02\n",
      "     ------------------- -------------------- 5.0/10.4 MB 4.1 MB/s eta 0:00:02\n",
      "     -------------------- ------------------- 5.3/10.4 MB 4.1 MB/s eta 0:00:02\n",
      "     --------------------- ------------------ 5.5/10.4 MB 4.2 MB/s eta 0:00:02\n",
      "     ---------------------- ----------------- 5.7/10.4 MB 4.2 MB/s eta 0:00:02\n",
      "     ---------------------- ----------------- 5.9/10.4 MB 4.1 MB/s eta 0:00:02\n",
      "     ----------------------- ---------------- 6.2/10.4 MB 4.2 MB/s eta 0:00:02\n",
      "     ------------------------ --------------- 6.3/10.4 MB 4.2 MB/s eta 0:00:01\n",
      "     ------------------------- -------------- 6.5/10.4 MB 4.2 MB/s eta 0:00:01\n",
      "     ------------------------- -------------- 6.7/10.4 MB 4.2 MB/s eta 0:00:01\n",
      "     -------------------------- ------------- 6.9/10.4 MB 4.1 MB/s eta 0:00:01\n",
      "     --------------------------- ------------ 7.1/10.4 MB 4.1 MB/s eta 0:00:01\n",
      "     --------------------------- ------------ 7.2/10.4 MB 4.1 MB/s eta 0:00:01\n",
      "     ---------------------------- ----------- 7.4/10.4 MB 4.1 MB/s eta 0:00:01\n",
      "     ----------------------------- ---------- 7.6/10.4 MB 4.1 MB/s eta 0:00:01\n",
      "     ----------------------------- ---------- 7.8/10.4 MB 4.1 MB/s eta 0:00:01\n",
      "     ------------------------------ --------- 8.0/10.4 MB 4.1 MB/s eta 0:00:01\n",
      "     ------------------------------- -------- 8.1/10.4 MB 4.1 MB/s eta 0:00:01\n",
      "     ------------------------------- -------- 8.3/10.4 MB 4.1 MB/s eta 0:00:01\n",
      "     -------------------------------- ------- 8.5/10.4 MB 4.1 MB/s eta 0:00:01\n",
      "     --------------------------------- ------ 8.7/10.4 MB 4.1 MB/s eta 0:00:01\n",
      "     --------------------------------- ------ 8.8/10.4 MB 4.1 MB/s eta 0:00:01\n",
      "     ---------------------------------- ----- 9.0/10.4 MB 4.1 MB/s eta 0:00:01\n",
      "     ----------------------------------- ---- 9.2/10.4 MB 4.1 MB/s eta 0:00:01\n",
      "     ------------------------------------ --- 9.4/10.4 MB 4.1 MB/s eta 0:00:01\n",
      "     ------------------------------------ --- 9.6/10.4 MB 4.0 MB/s eta 0:00:01\n",
      "     ------------------------------------- -- 9.7/10.4 MB 4.0 MB/s eta 0:00:01\n",
      "     -------------------------------------- - 9.9/10.4 MB 4.1 MB/s eta 0:00:01\n",
      "     -------------------------------------- - 10.1/10.4 MB 4.1 MB/s eta 0:00:01\n",
      "     ---------------------------------------  10.3/10.4 MB 4.0 MB/s eta 0:00:01\n",
      "     ---------------------------------------  10.4/10.4 MB 4.0 MB/s eta 0:00:01\n",
      "     ---------------------------------------- 10.4/10.4 MB 3.9 MB/s eta 0:00:00\n",
      "Collecting aioitertools>=0.5.1\n",
      "  Downloading aioitertools-0.11.0-py3-none-any.whl (23 kB)\n",
      "Collecting aiosignal>=1.1.2\n",
      "  Using cached aiosignal-1.3.1-py3-none-any.whl (7.6 kB)\n",
      "Requirement already satisfied: attrs>=17.3.0 in c:\\users\\adars\\anaconda3\\lib\\site-packages (from aiohttp!=4.0.0a0,!=4.0.0a1->s3fs) (22.1.0)\n",
      "Requirement already satisfied: charset-normalizer<4.0,>=2.0 in c:\\users\\adars\\anaconda3\\lib\\site-packages (from aiohttp!=4.0.0a0,!=4.0.0a1->s3fs) (2.0.4)\n",
      "Collecting multidict<7.0,>=4.5\n",
      "  Downloading multidict-6.0.4-cp39-cp39-win_amd64.whl (28 kB)\n",
      "Collecting async-timeout<5.0,>=4.0.0a3\n",
      "  Using cached async_timeout-4.0.2-py3-none-any.whl (5.8 kB)\n",
      "Collecting yarl<2.0,>=1.0\n",
      "  Downloading yarl-1.9.2-cp39-cp39-win_amd64.whl (61 kB)\n",
      "     ---------------------------------------- 0.0/61.7 kB ? eta -:--:--\n",
      "     ---------------------------------------- 61.7/61.7 kB 3.2 MB/s eta 0:00:00\n",
      "Collecting frozenlist>=1.1.1\n",
      "  Downloading frozenlist-1.3.3-cp39-cp39-win_amd64.whl (34 kB)\n",
      "Requirement already satisfied: typing_extensions>=4.0 in c:\\users\\adars\\anaconda3\\lib\\site-packages (from aioitertools>=0.5.1->aiobotocore~=2.5.0->s3fs) (4.4.0)\n",
      "Requirement already satisfied: python-dateutil<3.0.0,>=2.1 in c:\\users\\adars\\anaconda3\\lib\\site-packages (from botocore<1.29.77,>=1.29.76->aiobotocore~=2.5.0->s3fs) (2.8.2)\n",
      "Requirement already satisfied: jmespath<2.0.0,>=0.7.1 in c:\\users\\adars\\anaconda3\\lib\\site-packages (from botocore<1.29.77,>=1.29.76->aiobotocore~=2.5.0->s3fs) (0.10.0)\n",
      "Requirement already satisfied: urllib3<1.27,>=1.25.4 in c:\\users\\adars\\anaconda3\\lib\\site-packages (from botocore<1.29.77,>=1.29.76->aiobotocore~=2.5.0->s3fs) (1.26.15)\n",
      "Requirement already satisfied: idna>=2.0 in c:\\users\\adars\\anaconda3\\lib\\site-packages (from yarl<2.0,>=1.0->aiohttp!=4.0.0a0,!=4.0.0a1->s3fs) (3.4)\n",
      "Requirement already satisfied: six>=1.5 in c:\\users\\adars\\anaconda3\\lib\\site-packages (from python-dateutil<3.0.0,>=2.1->botocore<1.29.77,>=1.29.76->aiobotocore~=2.5.0->s3fs) (1.16.0)\n",
      "Installing collected packages: multidict, fsspec, frozenlist, async-timeout, aioitertools, yarl, botocore, aiosignal, aiohttp, aiobotocore, s3fs\n",
      "  Attempting uninstall: fsspec\n",
      "    Found existing installation: fsspec 2023.3.0\n",
      "    Uninstalling fsspec-2023.3.0:\n",
      "      Successfully uninstalled fsspec-2023.3.0\n",
      "Successfully installed aiobotocore-2.5.0 aiohttp-3.8.4 aioitertools-0.11.0 aiosignal-1.3.1 async-timeout-4.0.2 botocore-1.29.76 frozenlist-1.3.3 fsspec-2023.5.0 multidict-6.0.4 s3fs-2023.5.0 yarl-1.9.2\n"
     ]
    }
   ],
   "source": [
    "!pip install s3fs"
   ]
  },
  {
   "cell_type": "code",
   "execution_count": 2,
   "id": "c5c67407",
   "metadata": {},
   "outputs": [],
   "source": [
    "from s3fs import S3FileSystem"
   ]
  },
  {
   "cell_type": "code",
   "execution_count": 6,
   "id": "fd95e939",
   "metadata": {},
   "outputs": [],
   "source": [
    "consumer = KafkaConsumer(\n",
    "    'demo_testing1',\n",
    "     bootstrap_servers=['54.234.228.131:9092'], #add your IP here\n",
    "    value_deserializer=lambda x: loads(x.decode('utf-8')))"
   ]
  },
  {
   "cell_type": "code",
   "execution_count": 8,
   "id": "b2a0d5b8",
   "metadata": {},
   "outputs": [],
   "source": [
    "s3 = S3FileSystem()"
   ]
  },
  {
   "cell_type": "code",
   "execution_count": null,
   "id": "ac9b93d8",
   "metadata": {},
   "outputs": [],
   "source": [
    "#for count, i in enumerate(consumer):\n",
    "    #print(count)\n",
    "    #print(i.value)"
   ]
  },
  {
   "cell_type": "code",
   "execution_count": null,
   "id": "63afad53",
   "metadata": {},
   "outputs": [],
   "source": [
    "for count, i in enumerate(consumer):\n",
    "    with s3.open(\"s3://kafkastockmarket/stock_market_{}.json\".format(count), 'w') as file:\n",
    "        json.dump(i.value, file)"
   ]
  },
  {
   "cell_type": "code",
   "execution_count": null,
   "id": "e8b8f0d6",
   "metadata": {},
   "outputs": [],
   "source": []
  }
 ],
 "metadata": {
  "kernelspec": {
   "display_name": "Python 3 (ipykernel)",
   "language": "python",
   "name": "python3"
  },
  "language_info": {
   "codemirror_mode": {
    "name": "ipython",
    "version": 3
   },
   "file_extension": ".py",
   "mimetype": "text/x-python",
   "name": "python",
   "nbconvert_exporter": "python",
   "pygments_lexer": "ipython3",
   "version": "3.9.16"
  }
 },
 "nbformat": 4,
 "nbformat_minor": 5
}
